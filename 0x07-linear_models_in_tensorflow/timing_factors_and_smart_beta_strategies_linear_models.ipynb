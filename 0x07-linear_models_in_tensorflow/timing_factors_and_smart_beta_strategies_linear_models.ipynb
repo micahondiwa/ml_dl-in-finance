{
 "cells": [
  {
   "cell_type": "markdown",
   "metadata": {},
   "source": [
    "# **Linear Models in TensorFlow: Timing Factors and Smart-Beta Strategies** "
   ]
  }
 ],
 "metadata": {
  "language_info": {
   "name": "python"
  }
 },
 "nbformat": 4,
 "nbformat_minor": 2
}
