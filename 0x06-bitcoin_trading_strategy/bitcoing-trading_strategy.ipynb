{
 "cells": [
  {
   "cell_type": "markdown",
   "metadata": {},
   "source": [
    "### **BITCOIN TRADING STRATEGY**"
   ]
  },
  {
   "cell_type": "markdown",
   "metadata": {},
   "source": [
    "**Project goal**: To train classification algorithms on a bitcoin trading strategy problem and improve the performance of one machine learning model by tuning its parameters using grid search and Bayesian optimization technique. "
   ]
  },
  {
   "cell_type": "markdown",
   "metadata": {},
   "source": [
    "- The idea is to predict when to buy or sell bitcoin. We define buy or sell signal and represent them as 1 or 0. We arrive at the signal by comparing the price trend of short-term and long-term behavior, that is, short-term moving average greater than a long-term moving average. Then we buy bitcoin; otherwise, we sell bitcoin. This is, therefore, a classification problem where we are interested in getting the direction of Bitcoin movement right. "
   ]
  },
  {
   "cell_type": "markdown",
   "metadata": {},
   "source": [
    "**Loading Helper Packages and Data**"
   ]
  },
  {
   "cell_type": "code",
   "execution_count": 3,
   "metadata": {},
   "outputs": [],
   "source": [
    "import matplotlib.pyplot as plt\n",
    "import numpy as np\n",
    "import pandas as pd\n",
    "import seaborn as sns\n",
    "\n",
    "sns.set()"
   ]
  },
  {
   "cell_type": "code",
   "execution_count": 8,
   "metadata": {},
   "outputs": [],
   "source": [
    "from time import time \n",
    "\n",
    "import joblib \n",
    "\n",
    "# display all columns \n",
    "pd.set_option(\"display.max_columns\", None)\n",
    "pd.set_option(\"display.max_rows\", None)\n",
    "\n",
    "from bayes_opt import BayesianOptimization\n",
    "\n",
    "\n",
    "# Libraries for Deep Learning Models\n",
    "from sklearn.discriminant_analysis import LinearDiscriminantAnalysis\n",
    "from sklearn.dummy import DummyClassifier\n",
    "from sklearn.ensemble import (\n",
    "    AdaBoostClassifier, \n",
    "    GradientBoostingClassifier,\n",
    "    RandomForestClassifier\n",
    ")\n",
    "from sklearn.linear_model import LogisticRegression\n",
    "\n",
    "# needed for `HistGradientBoostingClassifier`\n",
    "from sklearn.metrics import (\n",
    "    accuracy_score,\n",
    "    classification_report,\n",
    "    confusion_matrix,\n",
    "    f1_score,\n",
    "    precision_score,\n",
    "    recall_score,\n",
    ")\n",
    "from sklearn.model_selection import (\n",
    "    GridSearchCV,\n",
    "    KFold,\n",
    "    StratifiedGroupKFold,\n",
    "    cross_val_score,\n",
    "    cross_validate,\n",
    "    train_test_split,\n",
    ")\n",
    "from sklearn.naive_bayes import GaussianNB\n",
    "from sklearn.neighbors import KNeighborsClassifier\n",
    "from sklearn.neural_network import MLPClassifier\n",
    "from sklearn.preprocessing import StandardScaler\n",
    "from sklearn.tree import DecisionTreeClassifier"
   ]
  },
  {
   "cell_type": "code",
   "execution_count": 12,
   "metadata": {},
   "outputs": [],
   "source": [
    "import yfinance as yf\n",
    "\n",
    "BTC_Ticker = yf.Ticker(\"BTC-USD\")\n",
    "BTC_Data = BTC_Ticker.history(period=\"5y\")"
   ]
  },
  {
   "cell_type": "code",
   "execution_count": 13,
   "metadata": {},
   "outputs": [
    {
     "data": {
      "text/html": [
       "<div>\n",
       "<style scoped>\n",
       "    .dataframe tbody tr th:only-of-type {\n",
       "        vertical-align: middle;\n",
       "    }\n",
       "\n",
       "    .dataframe tbody tr th {\n",
       "        vertical-align: top;\n",
       "    }\n",
       "\n",
       "    .dataframe thead th {\n",
       "        text-align: right;\n",
       "    }\n",
       "</style>\n",
       "<table border=\"1\" class=\"dataframe\">\n",
       "  <thead>\n",
       "    <tr style=\"text-align: right;\">\n",
       "      <th></th>\n",
       "      <th>Open</th>\n",
       "      <th>High</th>\n",
       "      <th>Low</th>\n",
       "      <th>Close</th>\n",
       "      <th>Volume</th>\n",
       "      <th>Dividends</th>\n",
       "      <th>Stock Splits</th>\n",
       "    </tr>\n",
       "    <tr>\n",
       "      <th>Date</th>\n",
       "      <th></th>\n",
       "      <th></th>\n",
       "      <th></th>\n",
       "      <th></th>\n",
       "      <th></th>\n",
       "      <th></th>\n",
       "      <th></th>\n",
       "    </tr>\n",
       "  </thead>\n",
       "  <tbody>\n",
       "    <tr>\n",
       "      <th>2020-01-14 00:00:00+00:00</th>\n",
       "      <td>8140.933105</td>\n",
       "      <td>8879.511719</td>\n",
       "      <td>8140.933105</td>\n",
       "      <td>8827.764648</td>\n",
       "      <td>44841784107</td>\n",
       "      <td>0.0</td>\n",
       "      <td>0.0</td>\n",
       "    </tr>\n",
       "    <tr>\n",
       "      <th>2020-01-15 00:00:00+00:00</th>\n",
       "      <td>8825.343750</td>\n",
       "      <td>8890.117188</td>\n",
       "      <td>8657.187500</td>\n",
       "      <td>8807.010742</td>\n",
       "      <td>40102834650</td>\n",
       "      <td>0.0</td>\n",
       "      <td>0.0</td>\n",
       "    </tr>\n",
       "    <tr>\n",
       "      <th>2020-01-16 00:00:00+00:00</th>\n",
       "      <td>8812.481445</td>\n",
       "      <td>8846.460938</td>\n",
       "      <td>8612.095703</td>\n",
       "      <td>8723.786133</td>\n",
       "      <td>31313981931</td>\n",
       "      <td>0.0</td>\n",
       "      <td>0.0</td>\n",
       "    </tr>\n",
       "    <tr>\n",
       "      <th>2020-01-17 00:00:00+00:00</th>\n",
       "      <td>8725.209961</td>\n",
       "      <td>8958.122070</td>\n",
       "      <td>8677.316406</td>\n",
       "      <td>8929.038086</td>\n",
       "      <td>36372139320</td>\n",
       "      <td>0.0</td>\n",
       "      <td>0.0</td>\n",
       "    </tr>\n",
       "    <tr>\n",
       "      <th>2020-01-18 00:00:00+00:00</th>\n",
       "      <td>8927.211914</td>\n",
       "      <td>9012.198242</td>\n",
       "      <td>8827.332031</td>\n",
       "      <td>8942.808594</td>\n",
       "      <td>32337772627</td>\n",
       "      <td>0.0</td>\n",
       "      <td>0.0</td>\n",
       "    </tr>\n",
       "  </tbody>\n",
       "</table>\n",
       "</div>"
      ],
      "text/plain": [
       "                                  Open         High          Low        Close  \\\n",
       "Date                                                                            \n",
       "2020-01-14 00:00:00+00:00  8140.933105  8879.511719  8140.933105  8827.764648   \n",
       "2020-01-15 00:00:00+00:00  8825.343750  8890.117188  8657.187500  8807.010742   \n",
       "2020-01-16 00:00:00+00:00  8812.481445  8846.460938  8612.095703  8723.786133   \n",
       "2020-01-17 00:00:00+00:00  8725.209961  8958.122070  8677.316406  8929.038086   \n",
       "2020-01-18 00:00:00+00:00  8927.211914  9012.198242  8827.332031  8942.808594   \n",
       "\n",
       "                                Volume  Dividends  Stock Splits  \n",
       "Date                                                             \n",
       "2020-01-14 00:00:00+00:00  44841784107        0.0           0.0  \n",
       "2020-01-15 00:00:00+00:00  40102834650        0.0           0.0  \n",
       "2020-01-16 00:00:00+00:00  31313981931        0.0           0.0  \n",
       "2020-01-17 00:00:00+00:00  36372139320        0.0           0.0  \n",
       "2020-01-18 00:00:00+00:00  32337772627        0.0           0.0  "
      ]
     },
     "execution_count": 13,
     "metadata": {},
     "output_type": "execute_result"
    }
   ],
   "source": [
    "BTC_Data.head()"
   ]
  },
  {
   "cell_type": "markdown",
   "metadata": {},
   "source": [
    "**Exploratory Data Analysis**"
   ]
  },
  {
   "cell_type": "code",
   "execution_count": 14,
   "metadata": {},
   "outputs": [
    {
     "data": {
      "text/plain": [
       "(1828, 7)"
      ]
     },
     "execution_count": 14,
     "metadata": {},
     "output_type": "execute_result"
    }
   ],
   "source": [
    "BTC_Data.shape"
   ]
  },
  {
   "cell_type": "code",
   "execution_count": 15,
   "metadata": {},
   "outputs": [
    {
     "name": "stdout",
     "output_type": "stream",
     "text": [
      "<class 'pandas.core.frame.DataFrame'>\n",
      "DatetimeIndex: 1828 entries, 2020-01-14 00:00:00+00:00 to 2025-01-14 00:00:00+00:00\n",
      "Data columns (total 7 columns):\n",
      " #   Column        Non-Null Count  Dtype  \n",
      "---  ------        --------------  -----  \n",
      " 0   Open          1828 non-null   float64\n",
      " 1   High          1828 non-null   float64\n",
      " 2   Low           1828 non-null   float64\n",
      " 3   Close         1828 non-null   float64\n",
      " 4   Volume        1828 non-null   int64  \n",
      " 5   Dividends     1828 non-null   float64\n",
      " 6   Stock Splits  1828 non-null   float64\n",
      "dtypes: float64(6), int64(1)\n",
      "memory usage: 114.2 KB\n"
     ]
    }
   ],
   "source": [
    "BTC_Data.info()"
   ]
  },
  {
   "cell_type": "code",
   "execution_count": 16,
   "metadata": {},
   "outputs": [
    {
     "data": {
      "text/html": [
       "<div>\n",
       "<style scoped>\n",
       "    .dataframe tbody tr th:only-of-type {\n",
       "        vertical-align: middle;\n",
       "    }\n",
       "\n",
       "    .dataframe tbody tr th {\n",
       "        vertical-align: top;\n",
       "    }\n",
       "\n",
       "    .dataframe thead th {\n",
       "        text-align: right;\n",
       "    }\n",
       "</style>\n",
       "<table border=\"1\" class=\"dataframe\">\n",
       "  <thead>\n",
       "    <tr style=\"text-align: right;\">\n",
       "      <th></th>\n",
       "      <th>Open</th>\n",
       "      <th>High</th>\n",
       "      <th>Low</th>\n",
       "      <th>Close</th>\n",
       "      <th>Volume</th>\n",
       "      <th>Dividends</th>\n",
       "      <th>Stock Splits</th>\n",
       "    </tr>\n",
       "  </thead>\n",
       "  <tbody>\n",
       "    <tr>\n",
       "      <th>count</th>\n",
       "      <td>1828.000000</td>\n",
       "      <td>1828.000000</td>\n",
       "      <td>1828.000000</td>\n",
       "      <td>1828.000000</td>\n",
       "      <td>1.828000e+03</td>\n",
       "      <td>1828.0</td>\n",
       "      <td>1828.0</td>\n",
       "    </tr>\n",
       "    <tr>\n",
       "      <th>mean</th>\n",
       "      <td>36933.638399</td>\n",
       "      <td>37741.569888</td>\n",
       "      <td>36093.541273</td>\n",
       "      <td>36978.606822</td>\n",
       "      <td>3.333528e+10</td>\n",
       "      <td>0.0</td>\n",
       "      <td>0.0</td>\n",
       "    </tr>\n",
       "    <tr>\n",
       "      <th>std</th>\n",
       "      <td>21580.702666</td>\n",
       "      <td>22047.754495</td>\n",
       "      <td>21097.788762</td>\n",
       "      <td>21610.566836</td>\n",
       "      <td>1.959776e+10</td>\n",
       "      <td>0.0</td>\n",
       "      <td>0.0</td>\n",
       "    </tr>\n",
       "    <tr>\n",
       "      <th>min</th>\n",
       "      <td>5002.578125</td>\n",
       "      <td>5331.833984</td>\n",
       "      <td>4106.980957</td>\n",
       "      <td>4970.788086</td>\n",
       "      <td>5.331173e+09</td>\n",
       "      <td>0.0</td>\n",
       "      <td>0.0</td>\n",
       "    </tr>\n",
       "    <tr>\n",
       "      <th>25%</th>\n",
       "      <td>19982.574219</td>\n",
       "      <td>20355.200195</td>\n",
       "      <td>19612.807129</td>\n",
       "      <td>19986.950195</td>\n",
       "      <td>2.061794e+10</td>\n",
       "      <td>0.0</td>\n",
       "      <td>0.0</td>\n",
       "    </tr>\n",
       "    <tr>\n",
       "      <th>50%</th>\n",
       "      <td>33120.023438</td>\n",
       "      <td>34329.384766</td>\n",
       "      <td>31758.965820</td>\n",
       "      <td>33310.972656</td>\n",
       "      <td>3.012005e+10</td>\n",
       "      <td>0.0</td>\n",
       "      <td>0.0</td>\n",
       "    </tr>\n",
       "    <tr>\n",
       "      <th>75%</th>\n",
       "      <td>51732.856445</td>\n",
       "      <td>52534.219727</td>\n",
       "      <td>50526.316406</td>\n",
       "      <td>51755.625977</td>\n",
       "      <td>4.043503e+10</td>\n",
       "      <td>0.0</td>\n",
       "      <td>0.0</td>\n",
       "    </tr>\n",
       "    <tr>\n",
       "      <th>max</th>\n",
       "      <td>106147.296875</td>\n",
       "      <td>108268.445312</td>\n",
       "      <td>105291.734375</td>\n",
       "      <td>106140.601562</td>\n",
       "      <td>3.509679e+11</td>\n",
       "      <td>0.0</td>\n",
       "      <td>0.0</td>\n",
       "    </tr>\n",
       "  </tbody>\n",
       "</table>\n",
       "</div>"
      ],
      "text/plain": [
       "                Open           High            Low          Close  \\\n",
       "count    1828.000000    1828.000000    1828.000000    1828.000000   \n",
       "mean    36933.638399   37741.569888   36093.541273   36978.606822   \n",
       "std     21580.702666   22047.754495   21097.788762   21610.566836   \n",
       "min      5002.578125    5331.833984    4106.980957    4970.788086   \n",
       "25%     19982.574219   20355.200195   19612.807129   19986.950195   \n",
       "50%     33120.023438   34329.384766   31758.965820   33310.972656   \n",
       "75%     51732.856445   52534.219727   50526.316406   51755.625977   \n",
       "max    106147.296875  108268.445312  105291.734375  106140.601562   \n",
       "\n",
       "             Volume  Dividends  Stock Splits  \n",
       "count  1.828000e+03     1828.0        1828.0  \n",
       "mean   3.333528e+10        0.0           0.0  \n",
       "std    1.959776e+10        0.0           0.0  \n",
       "min    5.331173e+09        0.0           0.0  \n",
       "25%    2.061794e+10        0.0           0.0  \n",
       "50%    3.012005e+10        0.0           0.0  \n",
       "75%    4.043503e+10        0.0           0.0  \n",
       "max    3.509679e+11        0.0           0.0  "
      ]
     },
     "execution_count": 16,
     "metadata": {},
     "output_type": "execute_result"
    }
   ],
   "source": [
    "BTC_Data.describe()"
   ]
  },
  {
   "cell_type": "code",
   "execution_count": 18,
   "metadata": {},
   "outputs": [
    {
     "name": "stdout",
     "output_type": "stream",
     "text": [
      "Null Values = False\n"
     ]
    }
   ],
   "source": [
    "# Check for any null values and remove them\n",
    "print(\"Null Values =\", BTC_Data.isnull().values.any())"
   ]
  },
  {
   "cell_type": "markdown",
   "metadata": {},
   "source": [
    "**Data Preparation**"
   ]
  },
  {
   "cell_type": "markdown",
   "metadata": {},
   "source": [
    "- We create a target variable, the buy or sell signal. The target variable constitutes our trading strategy. When the shorter term moving average goes above the longer term moving average, then it is an indicator to buy and the vice versa is also true. "
   ]
  },
  {
   "cell_type": "code",
   "execution_count": 19,
   "metadata": {},
   "outputs": [],
   "source": [
    "# create short simple moving average over the short window\n",
    "BTC_Data[\"short_moving_avg\"] = (\n",
    "    BTC_Data[\"Close\"].rolling(window=10, min_periods=1, center=False).mean()\n",
    ")\n",
    "\n",
    "# Create long simple moving average over the long window\n",
    "BTC_Data[\"long_moving_avg\"] = (\n",
    "    BTC_Data[\"Close\"].rolling(window=60, min_periods=1, center=False).mean()\n",
    ")\n",
    "\n",
    "# create signals\n",
    "BTC_Data[\"signal\"] = np.where(\n",
    "    BTC_Data[\"short_moving_avg\"] > BTC_Data[\"long_moving_avg\"], 1.0, 0.0\n",
    ")"
   ]
  },
  {
   "cell_type": "code",
   "execution_count": 20,
   "metadata": {},
   "outputs": [
    {
     "data": {
      "text/html": [
       "<div>\n",
       "<style scoped>\n",
       "    .dataframe tbody tr th:only-of-type {\n",
       "        vertical-align: middle;\n",
       "    }\n",
       "\n",
       "    .dataframe tbody tr th {\n",
       "        vertical-align: top;\n",
       "    }\n",
       "\n",
       "    .dataframe thead th {\n",
       "        text-align: right;\n",
       "    }\n",
       "</style>\n",
       "<table border=\"1\" class=\"dataframe\">\n",
       "  <thead>\n",
       "    <tr style=\"text-align: right;\">\n",
       "      <th></th>\n",
       "      <th>Open</th>\n",
       "      <th>High</th>\n",
       "      <th>Low</th>\n",
       "      <th>Close</th>\n",
       "      <th>Volume</th>\n",
       "      <th>Dividends</th>\n",
       "      <th>Stock Splits</th>\n",
       "      <th>short_moving_avg</th>\n",
       "      <th>long_moving_avg</th>\n",
       "      <th>signal</th>\n",
       "    </tr>\n",
       "    <tr>\n",
       "      <th>Date</th>\n",
       "      <th></th>\n",
       "      <th></th>\n",
       "      <th></th>\n",
       "      <th></th>\n",
       "      <th></th>\n",
       "      <th></th>\n",
       "      <th></th>\n",
       "      <th></th>\n",
       "      <th></th>\n",
       "      <th></th>\n",
       "    </tr>\n",
       "  </thead>\n",
       "  <tbody>\n",
       "    <tr>\n",
       "      <th>2020-01-14 00:00:00+00:00</th>\n",
       "      <td>8140.933105</td>\n",
       "      <td>8879.511719</td>\n",
       "      <td>8140.933105</td>\n",
       "      <td>8827.764648</td>\n",
       "      <td>44841784107</td>\n",
       "      <td>0.0</td>\n",
       "      <td>0.0</td>\n",
       "      <td>8827.764648</td>\n",
       "      <td>8827.764648</td>\n",
       "      <td>0.0</td>\n",
       "    </tr>\n",
       "    <tr>\n",
       "      <th>2020-01-15 00:00:00+00:00</th>\n",
       "      <td>8825.343750</td>\n",
       "      <td>8890.117188</td>\n",
       "      <td>8657.187500</td>\n",
       "      <td>8807.010742</td>\n",
       "      <td>40102834650</td>\n",
       "      <td>0.0</td>\n",
       "      <td>0.0</td>\n",
       "      <td>8817.387695</td>\n",
       "      <td>8817.387695</td>\n",
       "      <td>0.0</td>\n",
       "    </tr>\n",
       "    <tr>\n",
       "      <th>2020-01-16 00:00:00+00:00</th>\n",
       "      <td>8812.481445</td>\n",
       "      <td>8846.460938</td>\n",
       "      <td>8612.095703</td>\n",
       "      <td>8723.786133</td>\n",
       "      <td>31313981931</td>\n",
       "      <td>0.0</td>\n",
       "      <td>0.0</td>\n",
       "      <td>8786.187174</td>\n",
       "      <td>8786.187174</td>\n",
       "      <td>0.0</td>\n",
       "    </tr>\n",
       "    <tr>\n",
       "      <th>2020-01-17 00:00:00+00:00</th>\n",
       "      <td>8725.209961</td>\n",
       "      <td>8958.122070</td>\n",
       "      <td>8677.316406</td>\n",
       "      <td>8929.038086</td>\n",
       "      <td>36372139320</td>\n",
       "      <td>0.0</td>\n",
       "      <td>0.0</td>\n",
       "      <td>8821.899902</td>\n",
       "      <td>8821.899902</td>\n",
       "      <td>0.0</td>\n",
       "    </tr>\n",
       "    <tr>\n",
       "      <th>2020-01-18 00:00:00+00:00</th>\n",
       "      <td>8927.211914</td>\n",
       "      <td>9012.198242</td>\n",
       "      <td>8827.332031</td>\n",
       "      <td>8942.808594</td>\n",
       "      <td>32337772627</td>\n",
       "      <td>0.0</td>\n",
       "      <td>0.0</td>\n",
       "      <td>8846.081641</td>\n",
       "      <td>8846.081641</td>\n",
       "      <td>0.0</td>\n",
       "    </tr>\n",
       "  </tbody>\n",
       "</table>\n",
       "</div>"
      ],
      "text/plain": [
       "                                  Open         High          Low        Close  \\\n",
       "Date                                                                            \n",
       "2020-01-14 00:00:00+00:00  8140.933105  8879.511719  8140.933105  8827.764648   \n",
       "2020-01-15 00:00:00+00:00  8825.343750  8890.117188  8657.187500  8807.010742   \n",
       "2020-01-16 00:00:00+00:00  8812.481445  8846.460938  8612.095703  8723.786133   \n",
       "2020-01-17 00:00:00+00:00  8725.209961  8958.122070  8677.316406  8929.038086   \n",
       "2020-01-18 00:00:00+00:00  8927.211914  9012.198242  8827.332031  8942.808594   \n",
       "\n",
       "                                Volume  Dividends  Stock Splits  \\\n",
       "Date                                                              \n",
       "2020-01-14 00:00:00+00:00  44841784107        0.0           0.0   \n",
       "2020-01-15 00:00:00+00:00  40102834650        0.0           0.0   \n",
       "2020-01-16 00:00:00+00:00  31313981931        0.0           0.0   \n",
       "2020-01-17 00:00:00+00:00  36372139320        0.0           0.0   \n",
       "2020-01-18 00:00:00+00:00  32337772627        0.0           0.0   \n",
       "\n",
       "                           short_moving_avg  long_moving_avg  signal  \n",
       "Date                                                                  \n",
       "2020-01-14 00:00:00+00:00       8827.764648      8827.764648     0.0  \n",
       "2020-01-15 00:00:00+00:00       8817.387695      8817.387695     0.0  \n",
       "2020-01-16 00:00:00+00:00       8786.187174      8786.187174     0.0  \n",
       "2020-01-17 00:00:00+00:00       8821.899902      8821.899902     0.0  \n",
       "2020-01-18 00:00:00+00:00       8846.081641      8846.081641     0.0  "
      ]
     },
     "execution_count": 20,
     "metadata": {},
     "output_type": "execute_result"
    }
   ],
   "source": [
    "BTC_Data.head()"
   ]
  },
  {
   "cell_type": "markdown",
   "metadata": {},
   "source": [
    "**Feature Engineering**"
   ]
  },
  {
   "cell_type": "markdown",
   "metadata": {},
   "source": [
    "We create additional features in our dataset that will help us improve our model performance:\n",
    "\n",
    "- Exponentail Moving Average: Gives us the price trend of the data.\n",
    "- Relative Strength Indicator (RSI): Measures the change in price in recent time frame.\n",
    "- Rate of change: Measures the percentage change between the stock's current price and past prices. \n",
    "- Stochastic Oscillator: Compares the current closing price of the stock with its previous closing price."
   ]
  },
  {
   "cell_type": "code",
   "execution_count": null,
   "metadata": {},
   "outputs": [],
   "source": []
  }
 ],
 "metadata": {
  "kernelspec": {
   "display_name": "Python 3",
   "language": "python",
   "name": "python3"
  },
  "language_info": {
   "codemirror_mode": {
    "name": "ipython",
    "version": 3
   },
   "file_extension": ".py",
   "mimetype": "text/x-python",
   "name": "python",
   "nbconvert_exporter": "python",
   "pygments_lexer": "ipython3",
   "version": "3.13.1"
  }
 },
 "nbformat": 4,
 "nbformat_minor": 2
}
