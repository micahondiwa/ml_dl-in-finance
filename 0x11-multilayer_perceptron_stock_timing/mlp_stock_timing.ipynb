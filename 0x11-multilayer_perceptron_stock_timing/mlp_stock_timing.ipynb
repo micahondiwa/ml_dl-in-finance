{
 "cells": [
  {
   "cell_type": "markdown",
   "metadata": {},
   "source": [
    "# Multilayer Perceptron: Market  Timing of APPL stock with Hyper-parameter Tuning"
   ]
  }
 ],
 "metadata": {
  "language_info": {
   "name": "python"
  }
 },
 "nbformat": 4,
 "nbformat_minor": 2
}
