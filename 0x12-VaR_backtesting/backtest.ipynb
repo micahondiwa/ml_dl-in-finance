{
 "cells": [
  {
   "cell_type": "markdown",
   "id": "2c7ce4b9",
   "metadata": {},
   "source": [
    "# VaR Backtesting"
   ]
  }
 ],
 "metadata": {
  "language_info": {
   "name": "python"
  }
 },
 "nbformat": 4,
 "nbformat_minor": 5
}
