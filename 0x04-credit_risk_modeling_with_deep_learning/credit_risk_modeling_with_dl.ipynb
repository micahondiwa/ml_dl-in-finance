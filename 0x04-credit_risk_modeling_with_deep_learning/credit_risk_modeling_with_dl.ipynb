{
 "cells": [
  {
   "cell_type": "markdown",
   "metadata": {},
   "source": [
    "### CREDIT RISK MODELING: APPLICATION OF DEEP LEARNING"
   ]
  },
  {
   "cell_type": "code",
   "execution_count": 15,
   "metadata": {},
   "outputs": [],
   "source": [
    "from collections import Counter\n",
    "\n",
    "# EDA\n",
    "import matplotlib.pyplot as plt\n",
    "import numpy as np\n",
    "\n",
    "# data manipulation\n",
    "import pandas as pd\n",
    "import seaborn as sns\n",
    "from imblearn.combine import SMOTETomek\n",
    "from scipy import stats\n",
    "\n",
    "# feature selection\n",
    "from sklearn.ensemble import RandomForestClassifier\n",
    "\n",
    "# algorithms\n",
    "from sklearn.linear_model import LogisticRegression\n",
    "\n",
    "# model evaluation\n",
    "from sklearn.metrics import (\n",
    "    accuracy_score,\n",
    "    brier_score_loss,\n",
    "    classification_report,\n",
    "    cohen_kappa_score,\n",
    "    f1_score,\n",
    "    precision_score,\n",
    "    recall_score,\n",
    "    roc_auc_score,\n",
    ")\n",
    "\n",
    "# machine learning\n",
    "from sklearn.model_selection import train_test_split"
   ]
  },
  {
   "cell_type": "markdown",
   "metadata": {},
   "source": [
    "**Introduction**"
   ]
  },
  {
   "cell_type": "markdown",
   "metadata": {},
   "source": [
    "- The aim of this project is to use classical machine learning algorithms on a refined dataset and discuss the steps used to predict mortgage default. "
   ]
  },
  {
   "cell_type": "markdown",
   "metadata": {},
   "source": [
    "**1. Mortgage Delinquency**\n",
    "\n",
    "There has been an evolution in the business of lending money as the process has become increasingly complex due to the growing market demands and clients' increasing appetite for credit. These factors among others have led to an increase in regulation and oversight in the banking industry so as to make sure they act responsibly when issuing loans. In the recent past, the rate of digitalization globally has shot up with people in remote parts of the world having access to phones. This has made it possible for people to use mobile devices as a financial medium through which they can send and receive money to and from other people around the world. These transactions happen in a matter of seconds. Many fintechs have taken advantage of this to launch microloans to customers who are low risk. The fintechs use the interaction of the customers with their gadgets to build a credit score for each of the customers and determine the probability of the customer defaulting on a loan. This logic also applies to mortgages and the probability of mortgage default is called mortgage delinquency. Machine learning models are trained on the data we have processed and the decision making process of giving loans is automated.\n",
    "\n",
    "The machine learning models are used to assess the creditworthiness of a borrower. Before the advent of machine learning, lenders had an established guideline to measure creditworthiness. These guidelines were based on the five C's listed below:\n",
    "\n",
    "1. Character that looks at the borrower's repayment and credit record.\n",
    "2. Capacity that assess the borrower's ability to service the loan by looking at the debt-to-income ratio.\n",
    "3. Capital that looks at the down payment the borrower has paid. This is used to determine how serious the borrower is.\n",
    "4. Collateral, which is the asset provided to secure the mortgage, such as another home.\n",
    "5. Conditions of the borrower's environment, like the state of the economy.\n",
    "\n",
    "However, this has posed serious challenges to lenders as the number of features are limited in assessing customers' creditworthiness, with potentially credit-worthy clients being denied credit for failing certain criteria, and their inability to keep pace with the technological evolution that has been witnessed in the past decade.\n",
    "\n",
    "It is because of these limitations that machine learning models are now at the heart of assessing the creditworthiness of borrowers. However, recent research has shown that deep learning has the potential to eclipse machine learning for assessing credit risks. Deep neural networks are great at detecting risky borrowers when the data is unstructured and very complex.\n",
    "\n",
    "However, the risk of using deep learning models is that in most cases they are not explainable, that is, they are like black boxes and we are in most cases unable to know what happened for us to get a certain output. Currently, a lot of research is being done to address this by focusing on explainable artificial intelligence. In the next section, we are going to show a simple example of using a classical machine learning algorithm to assess credit risk. "
   ]
  },
  {
   "cell_type": "markdown",
   "metadata": {},
   "source": [
    "**2. Loading Data**"
   ]
  },
  {
   "cell_type": "markdown",
   "metadata": {},
   "source": [
    "We skip the process of performing EDA as the data is already processed.\n",
    "- Person Age, Person Income, Person Employment Length, Loan Amount, Loan interest rate, Loan percent income and Person credit history length were transformed using min max scaler, that is, converting the values to range between 0 and 1.\n",
    "- The other columns were categorical and we therefore converted them to numerical data by one hot encoding the columns."
   ]
  },
  {
   "cell_type": "code",
   "execution_count": 16,
   "metadata": {},
   "outputs": [
    {
     "data": {
      "text/html": [
       "<div>\n",
       "<style scoped>\n",
       "    .dataframe tbody tr th:only-of-type {\n",
       "        vertical-align: middle;\n",
       "    }\n",
       "\n",
       "    .dataframe tbody tr th {\n",
       "        vertical-align: top;\n",
       "    }\n",
       "\n",
       "    .dataframe thead th {\n",
       "        text-align: right;\n",
       "    }\n",
       "</style>\n",
       "<table border=\"1\" class=\"dataframe\">\n",
       "  <thead>\n",
       "    <tr style=\"text-align: right;\">\n",
       "      <th></th>\n",
       "      <th>loan_status</th>\n",
       "      <th>person_age</th>\n",
       "      <th>person_income</th>\n",
       "      <th>person_emp_length</th>\n",
       "      <th>loan_amnt</th>\n",
       "      <th>loan_int_rate</th>\n",
       "      <th>loan_percent_income</th>\n",
       "      <th>cb_person_cred_hist_length</th>\n",
       "      <th>person_home_ownership_MORTGAGE</th>\n",
       "      <th>person_home_ownership_OTHER</th>\n",
       "      <th>...</th>\n",
       "      <th>loan_intent_VENTURE</th>\n",
       "      <th>loan_grade_A</th>\n",
       "      <th>loan_grade_B</th>\n",
       "      <th>loan_grade_C</th>\n",
       "      <th>loan_grade_D</th>\n",
       "      <th>loan_grade_E</th>\n",
       "      <th>loan_grade_F</th>\n",
       "      <th>loan_grade_G</th>\n",
       "      <th>cb_person_default_on_file_N</th>\n",
       "      <th>cb_person_default_on_file_Y</th>\n",
       "    </tr>\n",
       "  </thead>\n",
       "  <tbody>\n",
       "    <tr>\n",
       "      <th>0</th>\n",
       "      <td>0</td>\n",
       "      <td>0.015625</td>\n",
       "      <td>0.002751</td>\n",
       "      <td>0.121951</td>\n",
       "      <td>0.014493</td>\n",
       "      <td>0.321348</td>\n",
       "      <td>0.120482</td>\n",
       "      <td>0.000000</td>\n",
       "      <td>0</td>\n",
       "      <td>0</td>\n",
       "      <td>...</td>\n",
       "      <td>0</td>\n",
       "      <td>0</td>\n",
       "      <td>1</td>\n",
       "      <td>0</td>\n",
       "      <td>0</td>\n",
       "      <td>0</td>\n",
       "      <td>0</td>\n",
       "      <td>0</td>\n",
       "      <td>1</td>\n",
       "      <td>0</td>\n",
       "    </tr>\n",
       "    <tr>\n",
       "      <th>1</th>\n",
       "      <td>1</td>\n",
       "      <td>0.078125</td>\n",
       "      <td>0.002751</td>\n",
       "      <td>0.024390</td>\n",
       "      <td>0.144928</td>\n",
       "      <td>0.418539</td>\n",
       "      <td>0.686747</td>\n",
       "      <td>0.035714</td>\n",
       "      <td>1</td>\n",
       "      <td>0</td>\n",
       "      <td>...</td>\n",
       "      <td>0</td>\n",
       "      <td>0</td>\n",
       "      <td>0</td>\n",
       "      <td>1</td>\n",
       "      <td>0</td>\n",
       "      <td>0</td>\n",
       "      <td>0</td>\n",
       "      <td>0</td>\n",
       "      <td>1</td>\n",
       "      <td>0</td>\n",
       "    </tr>\n",
       "    <tr>\n",
       "      <th>2</th>\n",
       "      <td>1</td>\n",
       "      <td>0.046875</td>\n",
       "      <td>0.030209</td>\n",
       "      <td>0.097561</td>\n",
       "      <td>1.000000</td>\n",
       "      <td>0.551124</td>\n",
       "      <td>0.638554</td>\n",
       "      <td>0.000000</td>\n",
       "      <td>0</td>\n",
       "      <td>0</td>\n",
       "      <td>...</td>\n",
       "      <td>0</td>\n",
       "      <td>0</td>\n",
       "      <td>0</td>\n",
       "      <td>1</td>\n",
       "      <td>0</td>\n",
       "      <td>0</td>\n",
       "      <td>0</td>\n",
       "      <td>0</td>\n",
       "      <td>1</td>\n",
       "      <td>0</td>\n",
       "    </tr>\n",
       "    <tr>\n",
       "      <th>3</th>\n",
       "      <td>1</td>\n",
       "      <td>0.062500</td>\n",
       "      <td>0.024757</td>\n",
       "      <td>0.195122</td>\n",
       "      <td>1.000000</td>\n",
       "      <td>0.497191</td>\n",
       "      <td>0.662651</td>\n",
       "      <td>0.071429</td>\n",
       "      <td>0</td>\n",
       "      <td>0</td>\n",
       "      <td>...</td>\n",
       "      <td>0</td>\n",
       "      <td>0</td>\n",
       "      <td>0</td>\n",
       "      <td>1</td>\n",
       "      <td>0</td>\n",
       "      <td>0</td>\n",
       "      <td>0</td>\n",
       "      <td>0</td>\n",
       "      <td>0</td>\n",
       "      <td>1</td>\n",
       "    </tr>\n",
       "    <tr>\n",
       "      <th>4</th>\n",
       "      <td>1</td>\n",
       "      <td>0.015625</td>\n",
       "      <td>0.002898</td>\n",
       "      <td>0.048780</td>\n",
       "      <td>0.057971</td>\n",
       "      <td>0.096629</td>\n",
       "      <td>0.301205</td>\n",
       "      <td>0.000000</td>\n",
       "      <td>0</td>\n",
       "      <td>0</td>\n",
       "      <td>...</td>\n",
       "      <td>1</td>\n",
       "      <td>1</td>\n",
       "      <td>0</td>\n",
       "      <td>0</td>\n",
       "      <td>0</td>\n",
       "      <td>0</td>\n",
       "      <td>0</td>\n",
       "      <td>0</td>\n",
       "      <td>1</td>\n",
       "      <td>0</td>\n",
       "    </tr>\n",
       "  </tbody>\n",
       "</table>\n",
       "<p>5 rows × 27 columns</p>\n",
       "</div>"
      ],
      "text/plain": [
       "   loan_status  person_age  person_income  person_emp_length  loan_amnt  \\\n",
       "0            0    0.015625       0.002751           0.121951   0.014493   \n",
       "1            1    0.078125       0.002751           0.024390   0.144928   \n",
       "2            1    0.046875       0.030209           0.097561   1.000000   \n",
       "3            1    0.062500       0.024757           0.195122   1.000000   \n",
       "4            1    0.015625       0.002898           0.048780   0.057971   \n",
       "\n",
       "   loan_int_rate  loan_percent_income  cb_person_cred_hist_length  \\\n",
       "0       0.321348             0.120482                    0.000000   \n",
       "1       0.418539             0.686747                    0.035714   \n",
       "2       0.551124             0.638554                    0.000000   \n",
       "3       0.497191             0.662651                    0.071429   \n",
       "4       0.096629             0.301205                    0.000000   \n",
       "\n",
       "   person_home_ownership_MORTGAGE  person_home_ownership_OTHER  ...  \\\n",
       "0                               0                            0  ...   \n",
       "1                               1                            0  ...   \n",
       "2                               0                            0  ...   \n",
       "3                               0                            0  ...   \n",
       "4                               0                            0  ...   \n",
       "\n",
       "   loan_intent_VENTURE  loan_grade_A  loan_grade_B  loan_grade_C  \\\n",
       "0                    0             0             1             0   \n",
       "1                    0             0             0             1   \n",
       "2                    0             0             0             1   \n",
       "3                    0             0             0             1   \n",
       "4                    1             1             0             0   \n",
       "\n",
       "   loan_grade_D  loan_grade_E  loan_grade_F  loan_grade_G  \\\n",
       "0             0             0             0             0   \n",
       "1             0             0             0             0   \n",
       "2             0             0             0             0   \n",
       "3             0             0             0             0   \n",
       "4             0             0             0             0   \n",
       "\n",
       "   cb_person_default_on_file_N  cb_person_default_on_file_Y  \n",
       "0                            1                            0  \n",
       "1                            1                            0  \n",
       "2                            1                            0  \n",
       "3                            0                            1  \n",
       "4                            1                            0  \n",
       "\n",
       "[5 rows x 27 columns]"
      ]
     },
     "execution_count": 16,
     "metadata": {},
     "output_type": "execute_result"
    }
   ],
   "source": [
    "df = pd.read_csv(\"credit_sample.csv\")\n",
    "df.head()"
   ]
  },
  {
   "cell_type": "code",
   "execution_count": 17,
   "metadata": {},
   "outputs": [
    {
     "data": {
      "text/plain": [
       "(29459, 27)"
      ]
     },
     "execution_count": 17,
     "metadata": {},
     "output_type": "execute_result"
    }
   ],
   "source": [
    "df.shape"
   ]
  },
  {
   "cell_type": "code",
   "execution_count": 18,
   "metadata": {},
   "outputs": [
    {
     "data": {
      "text/plain": [
       "loan_status                         int64\n",
       "person_age                        float64\n",
       "person_income                     float64\n",
       "person_emp_length                 float64\n",
       "loan_amnt                         float64\n",
       "loan_int_rate                     float64\n",
       "loan_percent_income               float64\n",
       "cb_person_cred_hist_length        float64\n",
       "person_home_ownership_MORTGAGE      int64\n",
       "person_home_ownership_OTHER         int64\n",
       "person_home_ownership_OWN           int64\n",
       "person_home_ownership_RENT          int64\n",
       "loan_intent_DEBTCONSOLIDATION       int64\n",
       "loan_intent_EDUCATION               int64\n",
       "loan_intent_HOMEIMPROVEMENT         int64\n",
       "loan_intent_MEDICAL                 int64\n",
       "loan_intent_PERSONAL                int64\n",
       "loan_intent_VENTURE                 int64\n",
       "loan_grade_A                        int64\n",
       "loan_grade_B                        int64\n",
       "loan_grade_C                        int64\n",
       "loan_grade_D                        int64\n",
       "loan_grade_E                        int64\n",
       "loan_grade_F                        int64\n",
       "loan_grade_G                        int64\n",
       "cb_person_default_on_file_N         int64\n",
       "cb_person_default_on_file_Y         int64\n",
       "dtype: object"
      ]
     },
     "execution_count": 18,
     "metadata": {},
     "output_type": "execute_result"
    }
   ],
   "source": [
    "df.dtypes"
   ]
  },
  {
   "cell_type": "code",
   "execution_count": 19,
   "metadata": {},
   "outputs": [
    {
     "data": {
      "text/plain": [
       "loan_status\n",
       "0    22996\n",
       "1     6463\n",
       "Name: count, dtype: int64"
      ]
     },
     "execution_count": 19,
     "metadata": {},
     "output_type": "execute_result"
    }
   ],
   "source": [
    "df.loan_status.value_counts()"
   ]
  },
  {
   "cell_type": "code",
   "execution_count": 20,
   "metadata": {},
   "outputs": [
    {
     "data": {
      "image/png": "[encoded data removed]",
      "text/plain": [
       "<Figure size 1200x600 with 1 Axes>"
      ]
     },
     "metadata": {},
     "output_type": "display_data"
    }
   ],
   "source": [
    "# plots count\n",
    "ax = sns.countplot(x=df[\"loan_status\"])\n",
    "\n",
    "# sets the figure size in inches\n",
    "ax.figure.set_size_inches(12, 6)\n",
    "\n",
    "# set plot features\n",
    "ax.set_title(\"Count for Loan Status\", fontsize=16)\n",
    "ax.set_ylabel(\"Count\", fontsize=14)\n",
    "ax.set_xlabel(\"Loan status\", fontsize=14)\n",
    "\n",
    "# set `xticks` labels\n",
    "plt.xticks([0, 1], [\"Non-Default\", \"Default\"])\n",
    "\n",
    "plt.suptitle(\n",
    "    \"Fig. 1: Top: A bar plot of good versus bad loans. The graph shows that the dataset is highly imbalanced.\",\n",
    "    fontweight=\"bold\",\n",
    "    horizontalalignment=\"right\",\n",
    ")\n",
    "\n",
    "# displays plot\n",
    "plt.show()"
   ]
  },
  {
   "cell_type": "code",
   "execution_count": 21,
   "metadata": {},
   "outputs": [
    {
     "name": "stdout",
     "output_type": "stream",
     "text": [
      "Number of default cases: 6463\n",
      "This is equivalent to 21.94% of the total loans\n",
      "\n",
      "Number of non-defualt cases: 22996\n",
      "This is equivalent to 78.06% of the total loans\n"
     ]
    }
   ],
   "source": [
    "# Seperating the data for easier analysis\n",
    "df_default = df[df[\"loan_status\"] == 1].copy()\n",
    "df_non_default = df[df[\"loan_status\"] == 0].copy()\n",
    "\n",
    "# Counts the number of defaults and non defaults \n",
    "total_default = df_default.shape[0]\n",
    "total_non_default = df_non_default.shape[0]\n",
    "total_loans = df.shape[0]\n",
    "\n",
    "print(\"Number of default cases:\", total_default)\n",
    "print(\n",
    "    \"This is equivalent to {:.2f}% of the total loans\".format(\n",
    "        (total_default / total_loans) * 100\n",
    "    )\n",
    ")\n",
    "\n",
    "print(\"\\nNumber of non-defualt cases:\", total_non_default)\n",
    "print(\n",
    "    \"This is equivalent to {:.2f}% of the total loans\".format(\n",
    "        (total_non_default / total_loans) * 100\n",
    "    )\n",
    ")"
   ]
  },
  {
   "cell_type": "markdown",
   "metadata": {},
   "source": [
    "**Split Dataset into Train and Test**"
   ]
  },
  {
   "cell_type": "code",
   "execution_count": 22,
   "metadata": {},
   "outputs": [],
   "source": [
    "# creates the X and y data sets\n",
    "X = df.drop(\"loan_status\", axis=1).values\n",
    "y = df[\"loan_status\"].values\n",
    "\n",
    "# splits into training and test set\n",
    "X_train, X_test, y_train, y_test = train_test_split(\n",
    "    X, y, test_size=0.25, random_state=2022, stratify=y\n",
    ")"
   ]
  },
  {
   "cell_type": "markdown",
   "metadata": {},
   "source": [
    "**Balancing Data for Training**"
   ]
  },
  {
   "cell_type": "markdown",
   "metadata": {},
   "source": [
    "- Since we saw the data was highly imbalanced, we perform oversampling with synthetic minority over-sampling technique (SMOTE):"
   ]
  },
  {
   "cell_type": "code",
   "execution_count": 23,
   "metadata": {},
   "outputs": [
    {
     "name": "stdout",
     "output_type": "stream",
     "text": [
      "Before balancing: Counter({np.int64(0): 17247, np.int64(1): 4847})\n",
      "After balancing: Counter({np.int64(1): 16988, np.int64(0): 16988})\n"
     ]
    }
   ],
   "source": [
    "# counts the number of classes before oversampling\n",
    "print(\"Before balancing:\", Counter(y_train))\n",
    "\n",
    "# defines the resampler\n",
    "resampler = SMOTETomek(random_state=2022, n_jobs=-1)\n",
    "\n",
    "# transforms the data set\n",
    "X_balanced, y_balanced = resampler.fit_resample(X_train, y_train)\n",
    "\n",
    "# counts the number of classes after oversampling\n",
    "print(\"After balancing:\", Counter(y_balanced))"
   ]
  },
  {
   "cell_type": "code",
   "execution_count": 24,
   "metadata": {},
   "outputs": [
    {
     "data": {
      "image/png": "[encoded data removed]",
      "text/plain": [
       "<Figure size 1200x400 with 2 Axes>"
      ]
     },
     "metadata": {},
     "output_type": "display_data"
    }
   ],
   "source": [
    "# plots before and after SMOTE\n",
    "plt.figure(figsize=(12, 4))\n",
    "\n",
    "plt.subplot(1, 2, 1)\n",
    "sns.countplot(x=y_train)\n",
    "plt.title(\"Before SMOTE\")\n",
    "\n",
    "plt.subplot(1, 2, 2)\n",
    "sns.countplot(x=y_balanced)\n",
    "plt.title(\"After SMOTE\")\n",
    "\n",
    "plt.suptitle(\n",
    "    \"Fig. 2: Top: A plot of the defaulters versus non-defaulters before resampling and after resampling\",\n",
    "    fontweight=\"bold\",\n",
    "    horizontalalignment=\"right\",\n",
    ")\n",
    "\n",
    "plt.show()"
   ]
  },
  {
   "cell_type": "code",
   "execution_count": 25,
   "metadata": {},
   "outputs": [
    {
     "name": "stdout",
     "output_type": "stream",
     "text": [
      "Total records BEFORE: 22094\n",
      "Total records AFTER: 33976\n",
      "Difference = -11882\n"
     ]
    }
   ],
   "source": [
    "print(\"Total records BEFORE:\", X_train.shape[0])\n",
    "print(\"Total records AFTER:\", X_balanced.shape[0])\n",
    "print(\"Difference =\", X_train.shape[0] - X_balanced.shape[0])"
   ]
  },
  {
   "cell_type": "markdown",
   "metadata": {},
   "source": [
    "**Training the Models and Getting the Performance Metrics**"
   ]
  },
  {
   "cell_type": "markdown",
   "metadata": {},
   "source": [
    "As the process of model building affects the business, a discussion with business owners on the objective of the model will highly affect how we set thresholds. If the purpose is customer acquisition at the expense of risk, we can always lower the threshold of probability so as to get as many customers as possible. If we are interested in optimizing to get high profits or minimize high risks, then we can increase the threshold."
   ]
  },
  {
   "cell_type": "code",
   "execution_count": 26,
   "metadata": {},
   "outputs": [],
   "source": [
    "THRESHOLD = 0.05"
   ]
  },
  {
   "cell_type": "code",
   "execution_count": 27,
   "metadata": {},
   "outputs": [],
   "source": [
    "# list of classifiers\n",
    "classifiers = [\n",
    "    LogisticRegression(max_iter=220, random_state=2022),\n",
    "    RandomForestClassifier(random_state=2022)\n",
    "]"
   ]
  },
  {
   "cell_type": "markdown",
   "metadata": {},
   "source": [
    "The function below trains the models on the dataset and evaluates their performance."
   ]
  },
  {
   "cell_type": "code",
   "execution_count": 28,
   "metadata": {},
   "outputs": [],
   "source": [
    "def calculate_model_metrics(model, X_test, y_test, model_probs, threshold):\n",
    "    \"\"\"\n",
    "    Calculates Accuracy, F1-Score, PR AUC\n",
    "    \"\"\"\n",
    "\n",
    "    # keeps probabilities for the positive outcome only\n",
    "    probs = pd.DataFrame(model_probs[:, 1], columns=[\"prob\"])\n",
    "\n",
    "    # applies the threshold\n",
    "    y_pred = probs[\"prob\"].apply(lambda x: 1 if x > threshold else 0)\n",
    "\n",
    "    # calculates f1-score\n",
    "    f1 = f1_score(y_test, y_pred)\n",
    "\n",
    "    # calculates accuracy\n",
    "    accuracy = accuracy_score(y_test, y_pred)\n",
    "\n",
    "    # calculates kappa score\n",
    "    kappa = cohen_kappa_score(y_test, y_pred)\n",
    "\n",
    "    # calculates AUC\n",
    "    auc_score = roc_auc_score(y_test, y_pred)\n",
    "\n",
    "    # calculates precision \n",
    "    precision = precision_score(y_test, y_pred)\n",
    "\n",
    "    # calculates the recall\n",
    "    recall = recall_score(y_test, y_pred)\n",
    "\n",
    "    return accuracy, kappa, f1, auc_score, precision, recall"
   ]
  },
  {
   "cell_type": "code",
   "execution_count": 32,
   "metadata": {},
   "outputs": [],
   "source": [
    "def get_classifiers_performance(\n",
    "        X_train, X_test, y_train, y_test, threshold, classifiers\n",
    "):\n",
    "    # creates empty data frame\n",
    "    df_performance = pd.DataFrame()\n",
    "\n",
    "    for clf in classifiers:\n",
    "        print(\"Training\" + type(clf).__name__+\"...\")\n",
    "        # fits the classifier to training data\n",
    "        clf.fit(X_train, y_train)\n",
    "\n",
    "        # predict the probabilities \n",
    "        clf_probs = clf.predict_proba(X_test)\n",
    "\n",
    "        # calculates model metrics \n",
    "        (\n",
    "            clf_accuracy,\n",
    "            clf_kappa,\n",
    "            clf_f1,\n",
    "            clf_auc,\n",
    "            clf_precision,\n",
    "            clf_recall,\n",
    "        ) = calculate_model_metrics(clf, X_test, y_test, clf_probs, threshold)\n",
    "\n",
    "        # creates a dict\n",
    "        clf_dict = {\n",
    "            \"model\": [type(clf).__name__, \"---\"],\n",
    "            \"precision\": [clf_precision, np.nan],\n",
    "            \"recall\": [clf_recall, np.nan],\n",
    "            \"f1-score\": [clf_f1, np.nan], \n",
    "            \"ROC AUC\": [clf_auc, np.nan],\n",
    "            \"accuracy\": [clf_accuracy, np.nan],\n",
    "            \"cohen kappa\": [clf_kappa, np.nan],\n",
    "            }\n",
    "        \n",
    "        # concatenate Data Frame\n",
    "        df_performance = pd.concat([df_performance, pd.DataFrame(clf_dict)])\n",
    "\n",
    "    # resets Data Frame index\n",
    "    df_performance = df_performance.reset_index()\n",
    "\n",
    "    # drops index\n",
    "    df_performance.drop(\"index\", axis = 1, inplace=True)\n",
    "\n",
    "    # gets only the odd numbered rows \n",
    "    rows_to_drop = np.arange(1, len(classifiers) * 2, 2)\n",
    "\n",
    "    # drops unwanted rows that have no data\n",
    "    df_performance.drop(rows_to_drop, inplace=True)\n",
    "\n",
    "    # returns performance summary\n",
    "    return df_performance"
   ]
  },
  {
   "cell_type": "code",
   "execution_count": 34,
   "metadata": {},
   "outputs": [
    {
     "name": "stdout",
     "output_type": "stream",
     "text": [
      "TrainingLogisticRegression...\n",
      "TrainingRandomForestClassifier...\n"
     ]
    },
    {
     "data": {
      "text/html": [
       "<style type=\"text/css\">\n",
       "#T_ad2bf_row0_col2, #T_ad2bf_row1_col0, #T_ad2bf_row1_col1, #T_ad2bf_row1_col3, #T_ad2bf_row1_col4, #T_ad2bf_row1_col5, #T_ad2bf_row1_col6 {\n",
       "  background-color: yellow;\n",
       "}\n",
       "</style>\n",
       "<table id=\"T_ad2bf\">\n",
       "  <thead>\n",
       "    <tr>\n",
       "      <th class=\"blank level0\" >&nbsp;</th>\n",
       "      <th id=\"T_ad2bf_level0_col0\" class=\"col_heading level0 col0\" >model</th>\n",
       "      <th id=\"T_ad2bf_level0_col1\" class=\"col_heading level0 col1\" >precision</th>\n",
       "      <th id=\"T_ad2bf_level0_col2\" class=\"col_heading level0 col2\" >recall</th>\n",
       "      <th id=\"T_ad2bf_level0_col3\" class=\"col_heading level0 col3\" >f1-score</th>\n",
       "      <th id=\"T_ad2bf_level0_col4\" class=\"col_heading level0 col4\" >ROC AUC</th>\n",
       "      <th id=\"T_ad2bf_level0_col5\" class=\"col_heading level0 col5\" >accuracy</th>\n",
       "      <th id=\"T_ad2bf_level0_col6\" class=\"col_heading level0 col6\" >cohen kappa</th>\n",
       "    </tr>\n",
       "  </thead>\n",
       "  <tbody>\n",
       "    <tr>\n",
       "      <th id=\"T_ad2bf_level0_row0\" class=\"row_heading level0 row0\" >0</th>\n",
       "      <td id=\"T_ad2bf_row0_col0\" class=\"data row0 col0\" >LogisticRegression</td>\n",
       "      <td id=\"T_ad2bf_row0_col1\" class=\"data row0 col1\" >0.240203</td>\n",
       "      <td id=\"T_ad2bf_row0_col2\" class=\"data row0 col2\" >0.997525</td>\n",
       "      <td id=\"T_ad2bf_row0_col3\" class=\"data row0 col3\" >0.387174</td>\n",
       "      <td id=\"T_ad2bf_row0_col4\" class=\"data row0 col4\" >0.555294</td>\n",
       "      <td id=\"T_ad2bf_row0_col5\" class=\"data row0 col5\" >0.307128</td>\n",
       "      <td id=\"T_ad2bf_row0_col6\" class=\"data row0 col6\" >0.051839</td>\n",
       "    </tr>\n",
       "    <tr>\n",
       "      <th id=\"T_ad2bf_level0_row1\" class=\"row_heading level0 row1\" >2</th>\n",
       "      <td id=\"T_ad2bf_row1_col0\" class=\"data row1 col0\" >RandomForestClassifier</td>\n",
       "      <td id=\"T_ad2bf_row1_col1\" class=\"data row1 col1\" >0.303147</td>\n",
       "      <td id=\"T_ad2bf_row1_col2\" class=\"data row1 col2\" >0.977723</td>\n",
       "      <td id=\"T_ad2bf_row1_col3\" class=\"data row1 col3\" >0.462800</td>\n",
       "      <td id=\"T_ad2bf_row1_col4\" class=\"data row1 col4\" >0.672980</td>\n",
       "      <td id=\"T_ad2bf_row1_col5\" class=\"data row1 col5\" >0.501969</td>\n",
       "      <td id=\"T_ad2bf_row1_col6\" class=\"data row1 col6\" >0.192214</td>\n",
       "    </tr>\n",
       "  </tbody>\n",
       "</table>\n"
      ],
      "text/plain": [
       "<pandas.io.formats.style.Styler at 0x27b89d13b60>"
      ]
     },
     "execution_count": 34,
     "metadata": {},
     "output_type": "execute_result"
    }
   ],
   "source": [
    "# calculates classifiers performance\n",
    "df_performances = get_classifiers_performance(\n",
    "    X_balanced, X_test, y_balanced, y_test, THRESHOLD, classifiers\n",
    ")\n",
    "# highlight max values for each  column\n",
    "df_performances.style.highlight_max()"
   ]
  },
  {
   "cell_type": "markdown",
   "metadata": {},
   "source": [
    "**Probability Distribution**"
   ]
  }
 ],
 "metadata": {
  "kernelspec": {
   "display_name": "Python 3",
   "language": "python",
   "name": "python3"
  },
  "language_info": {
   "codemirror_mode": {
    "name": "ipython",
    "version": 3
   },
   "file_extension": ".py",
   "mimetype": "text/x-python",
   "name": "python",
   "nbconvert_exporter": "python",
   "pygments_lexer": "ipython3",
   "version": "3.13.1"
  }
 },
 "nbformat": 4,
 "nbformat_minor": 2
}
