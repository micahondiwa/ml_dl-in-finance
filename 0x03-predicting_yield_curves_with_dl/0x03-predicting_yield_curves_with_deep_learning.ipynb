{
 "cells": [
  {
   "cell_type": "markdown",
   "metadata": {},
   "source": [
    "**APPLICATION OF DEEP LEARNING IN PREDICTING CURVES**"
   ]
  },
  {
   "cell_type": "markdown",
   "metadata": {},
   "source": [
    "- Yield curve is a graph showing interest rates (bonds) having different maturities. "
   ]
  },
  {
   "cell_type": "markdown",
   "metadata": {},
   "source": [
    "**Project Goal:** To find and understand the factors that affect movements pf yield curve. \n",
    "- Among the variables are the historical data of the yield curve, federal debt percentage that is held by the investors, and the corporate bond.\n",
    "- The dependent variable will be the 1-month, 5-year and 30-year tenure of the yield curve.\n",
    "- Data sources are FRED and Yahoo websites.\n",
    "- The project uses polynomials of various degrees to forecast the yield curves."
   ]
  },
  {
   "cell_type": "markdown",
   "metadata": {},
   "source": []
  }
 ],
 "metadata": {
  "language_info": {
   "name": "python"
  }
 },
 "nbformat": 4,
 "nbformat_minor": 2
}
